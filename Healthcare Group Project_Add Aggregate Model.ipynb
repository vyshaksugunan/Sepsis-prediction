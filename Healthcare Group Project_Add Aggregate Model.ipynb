{
 "cells": [
  {
   "cell_type": "code",
   "execution_count": 1,
   "metadata": {},
   "outputs": [],
   "source": [
    "from glob import glob\n",
    "import pandas as pd\n",
    "import numpy as np"
   ]
  },
  {
   "cell_type": "code",
   "execution_count": 100,
   "metadata": {},
   "outputs": [],
   "source": [
    "files1 = glob('training_setA/*')\n",
    "files2 = glob('training_setB/*')\n",
    "files = files1+files2"
   ]
  },
  {
   "cell_type": "code",
   "execution_count": 101,
   "metadata": {},
   "outputs": [
    {
     "data": {
      "text/plain": [
       "40336"
      ]
     },
     "execution_count": 101,
     "metadata": {},
     "output_type": "execute_result"
    }
   ],
   "source": [
    "len(files)"
   ]
  },
  {
   "cell_type": "code",
   "execution_count": 122,
   "metadata": {},
   "outputs": [],
   "source": [
    "aggr = []\n",
    "for file in files:\n",
    "    patient = file.split('/')[1].split('.')[0]\n",
    "    data = pd.read_csv(file,sep = '|')\n",
    "    start = data[['HR','O2Sat','SBP','MAP','DBP','Resp']].max()\n",
    "    end = data[['HR','O2Sat','SBP','MAP','DBP','Resp']].min()\n",
    "    var = data[['HR','O2Sat','SBP','MAP','DBP','Resp']].var()\n",
    "    temp = start.append(end).append(var).to_list()\n",
    "    Age = data.loc[0,'Age']\n",
    "    Gender = data.loc[0,'Gender']\n",
    "    Unit1 = data.loc[0,'Unit1']\n",
    "    Unit2 = data.loc[0,'Unit2']\n",
    "    ## Assuming this field doesn't change for a patient\n",
    "    HospAdmTime = data.loc[0,'HospAdmTime']\n",
    "\n",
    "    ICULOS = data.iloc[-1,39]        #We can also use length of data\n",
    "\n",
    "    Sepsis = int(any(data['SepsisLabel']==1))\n",
    "    \n",
    "    aggr.append(temp+[patient,Age, Gender, Unit1, Unit2, HospAdmTime, ICULOS, Sepsis])"
   ]
  },
  {
   "cell_type": "code",
   "execution_count": 123,
   "metadata": {},
   "outputs": [
    {
     "data": {
      "text/html": [
       "<div>\n",
       "<style scoped>\n",
       "    .dataframe tbody tr th:only-of-type {\n",
       "        vertical-align: middle;\n",
       "    }\n",
       "\n",
       "    .dataframe tbody tr th {\n",
       "        vertical-align: top;\n",
       "    }\n",
       "\n",
       "    .dataframe thead th {\n",
       "        text-align: right;\n",
       "    }\n",
       "</style>\n",
       "<table border=\"1\" class=\"dataframe\">\n",
       "  <thead>\n",
       "    <tr style=\"text-align: right;\">\n",
       "      <th></th>\n",
       "      <th>Max_HR</th>\n",
       "      <th>Max_O2Sat</th>\n",
       "      <th>Max_SBP</th>\n",
       "      <th>Max_MAP</th>\n",
       "      <th>Max_DBP</th>\n",
       "      <th>Max_Resp</th>\n",
       "      <th>min_HR</th>\n",
       "      <th>min_O2Sat</th>\n",
       "      <th>min_SBP</th>\n",
       "      <th>min_MAP</th>\n",
       "      <th>...</th>\n",
       "      <th>V_DBP</th>\n",
       "      <th>V_Resp</th>\n",
       "      <th>patient_id</th>\n",
       "      <th>Age</th>\n",
       "      <th>Gender</th>\n",
       "      <th>Unit1</th>\n",
       "      <th>Unit2</th>\n",
       "      <th>HospAdmTime</th>\n",
       "      <th>ICULOS</th>\n",
       "      <th>SepsisLabel</th>\n",
       "    </tr>\n",
       "  </thead>\n",
       "  <tbody>\n",
       "    <tr>\n",
       "      <th>0</th>\n",
       "      <td>75.0</td>\n",
       "      <td>100.0</td>\n",
       "      <td>NaN</td>\n",
       "      <td>101.00</td>\n",
       "      <td>NaN</td>\n",
       "      <td>14.5</td>\n",
       "      <td>61.0</td>\n",
       "      <td>98.0</td>\n",
       "      <td>NaN</td>\n",
       "      <td>63.0</td>\n",
       "      <td>...</td>\n",
       "      <td>NaN</td>\n",
       "      <td>0.066964</td>\n",
       "      <td>p016161</td>\n",
       "      <td>47.20</td>\n",
       "      <td>1</td>\n",
       "      <td>NaN</td>\n",
       "      <td>NaN</td>\n",
       "      <td>-0.01</td>\n",
       "      <td>10</td>\n",
       "      <td>1</td>\n",
       "    </tr>\n",
       "    <tr>\n",
       "      <th>1</th>\n",
       "      <td>80.0</td>\n",
       "      <td>100.0</td>\n",
       "      <td>127.0</td>\n",
       "      <td>89.00</td>\n",
       "      <td>84.0</td>\n",
       "      <td>26.0</td>\n",
       "      <td>65.0</td>\n",
       "      <td>98.0</td>\n",
       "      <td>86.0</td>\n",
       "      <td>67.0</td>\n",
       "      <td>...</td>\n",
       "      <td>49.703557</td>\n",
       "      <td>22.516798</td>\n",
       "      <td>p019252</td>\n",
       "      <td>80.34</td>\n",
       "      <td>0</td>\n",
       "      <td>0.0</td>\n",
       "      <td>1.0</td>\n",
       "      <td>-2.97</td>\n",
       "      <td>24</td>\n",
       "      <td>0</td>\n",
       "    </tr>\n",
       "    <tr>\n",
       "      <th>2</th>\n",
       "      <td>92.0</td>\n",
       "      <td>100.0</td>\n",
       "      <td>135.0</td>\n",
       "      <td>96.00</td>\n",
       "      <td>NaN</td>\n",
       "      <td>20.0</td>\n",
       "      <td>66.0</td>\n",
       "      <td>93.0</td>\n",
       "      <td>100.0</td>\n",
       "      <td>60.0</td>\n",
       "      <td>...</td>\n",
       "      <td>NaN</td>\n",
       "      <td>6.051220</td>\n",
       "      <td>p006372</td>\n",
       "      <td>84.22</td>\n",
       "      <td>0</td>\n",
       "      <td>1.0</td>\n",
       "      <td>0.0</td>\n",
       "      <td>-0.03</td>\n",
       "      <td>48</td>\n",
       "      <td>0</td>\n",
       "    </tr>\n",
       "    <tr>\n",
       "      <th>3</th>\n",
       "      <td>84.0</td>\n",
       "      <td>100.0</td>\n",
       "      <td>148.0</td>\n",
       "      <td>120.00</td>\n",
       "      <td>78.0</td>\n",
       "      <td>28.0</td>\n",
       "      <td>68.0</td>\n",
       "      <td>93.0</td>\n",
       "      <td>79.0</td>\n",
       "      <td>58.0</td>\n",
       "      <td>...</td>\n",
       "      <td>53.552500</td>\n",
       "      <td>17.196441</td>\n",
       "      <td>p009041</td>\n",
       "      <td>76.93</td>\n",
       "      <td>1</td>\n",
       "      <td>0.0</td>\n",
       "      <td>1.0</td>\n",
       "      <td>-1.69</td>\n",
       "      <td>40</td>\n",
       "      <td>0</td>\n",
       "    </tr>\n",
       "    <tr>\n",
       "      <th>4</th>\n",
       "      <td>107.0</td>\n",
       "      <td>100.0</td>\n",
       "      <td>183.0</td>\n",
       "      <td>112.33</td>\n",
       "      <td>NaN</td>\n",
       "      <td>18.5</td>\n",
       "      <td>55.0</td>\n",
       "      <td>96.0</td>\n",
       "      <td>82.5</td>\n",
       "      <td>55.0</td>\n",
       "      <td>...</td>\n",
       "      <td>NaN</td>\n",
       "      <td>2.792359</td>\n",
       "      <td>p010510</td>\n",
       "      <td>56.10</td>\n",
       "      <td>1</td>\n",
       "      <td>0.0</td>\n",
       "      <td>1.0</td>\n",
       "      <td>-767.78</td>\n",
       "      <td>49</td>\n",
       "      <td>0</td>\n",
       "    </tr>\n",
       "  </tbody>\n",
       "</table>\n",
       "<p>5 rows × 26 columns</p>\n",
       "</div>"
      ],
      "text/plain": [
       "   Max_HR  Max_O2Sat  Max_SBP  Max_MAP  Max_DBP  Max_Resp  min_HR  min_O2Sat  \\\n",
       "0    75.0      100.0      NaN   101.00      NaN      14.5    61.0       98.0   \n",
       "1    80.0      100.0    127.0    89.00     84.0      26.0    65.0       98.0   \n",
       "2    92.0      100.0    135.0    96.00      NaN      20.0    66.0       93.0   \n",
       "3    84.0      100.0    148.0   120.00     78.0      28.0    68.0       93.0   \n",
       "4   107.0      100.0    183.0   112.33      NaN      18.5    55.0       96.0   \n",
       "\n",
       "   min_SBP  min_MAP  ...      V_DBP     V_Resp  patient_id    Age  Gender  \\\n",
       "0      NaN     63.0  ...        NaN   0.066964     p016161  47.20       1   \n",
       "1     86.0     67.0  ...  49.703557  22.516798     p019252  80.34       0   \n",
       "2    100.0     60.0  ...        NaN   6.051220     p006372  84.22       0   \n",
       "3     79.0     58.0  ...  53.552500  17.196441     p009041  76.93       1   \n",
       "4     82.5     55.0  ...        NaN   2.792359     p010510  56.10       1   \n",
       "\n",
       "   Unit1  Unit2  HospAdmTime ICULOS  SepsisLabel  \n",
       "0    NaN    NaN        -0.01     10            1  \n",
       "1    0.0    1.0        -2.97     24            0  \n",
       "2    1.0    0.0        -0.03     48            0  \n",
       "3    0.0    1.0        -1.69     40            0  \n",
       "4    0.0    1.0      -767.78     49            0  \n",
       "\n",
       "[5 rows x 26 columns]"
      ]
     },
     "execution_count": 123,
     "metadata": {},
     "output_type": "execute_result"
    }
   ],
   "source": [
    "aggr = pd.DataFrame(aggr,columns = ['Max_HR','Max_O2Sat','Max_SBP','Max_MAP','Max_DBP','Max_Resp',\n",
    "                                    'min_HR','min_O2Sat','min_SBP','min_MAP','min_DBP','min_Resp',\n",
    "                                    'V_HR','V_O2Sat','V_SBP','V_MAP','V_DBP','V_Resp','patient_id',\n",
    "                                    'Age','Gender','Unit1','Unit2','HospAdmTime','ICULOS','SepsisLabel']).copy()\n",
    "aggr.head()"
   ]
  },
  {
   "cell_type": "code",
   "execution_count": 128,
   "metadata": {},
   "outputs": [
    {
     "data": {
      "text/plain": [
       "GradientBoostingClassifier(criterion='friedman_mse', init=None,\n",
       "                           learning_rate=0.1, loss='deviance', max_depth=3,\n",
       "                           max_features=None, max_leaf_nodes=None,\n",
       "                           min_impurity_decrease=0.0, min_impurity_split=None,\n",
       "                           min_samples_leaf=1, min_samples_split=2,\n",
       "                           min_weight_fraction_leaf=0.0, n_estimators=100,\n",
       "                           n_iter_no_change=None, presort='auto',\n",
       "                           random_state=None, subsample=0.5, tol=0.0001,\n",
       "                           validation_fraction=0.1, verbose=0,\n",
       "                           warm_start=False)"
      ]
     },
     "execution_count": 128,
     "metadata": {},
     "output_type": "execute_result"
    }
   ],
   "source": [
    "aggr = aggr.fillna(aggr.median())\n",
    "X = aggr.drop(columns =['SepsisLabel','patient_id'])\n",
    "y = aggr['SepsisLabel']\n",
    "\n",
    "from sklearn.model_selection import train_test_split\n",
    "X_train, X_test, y_train, y_test = train_test_split(X, y, test_size=0.3, random_state=101)\n",
    "\n",
    "from sklearn.ensemble import GradientBoostingClassifier\n",
    "zero = len(y_train[y_train== 0])\n",
    "zero\n",
    "one = len(y_train[y_train== 1])\n",
    "one\n",
    "w0=(one/zero)*2\n",
    "w1=1\n",
    "sample_weights = np.zeros(len(y_train))\n",
    "sample_weights[y_train == 0] = w0\n",
    "sample_weights[y_train == 1] = w1\n",
    "\n",
    "\n",
    "GBC=GradientBoostingClassifier(n_estimators=100,learning_rate = 0.1, subsample=0.5)\n",
    "GBC.fit(X_train, y_train,sample_weights)"
   ]
  },
  {
   "cell_type": "code",
   "execution_count": 131,
   "metadata": {},
   "outputs": [],
   "source": [
    "from sklearn.metrics import accuracy_score, recall_score, precision_score, roc_auc_score\n",
    "def get_scores(y_true, y_pred, y_prob):\n",
    "    print(f\"Accuracy: {accuracy_score(y_true, y_pred)}\")\n",
    "    print(f\"Recall: {recall_score(y_true, y_pred)}\")\n",
    "    print(f\"Precision: {precision_score(y_true, y_pred)}\")\n",
    "    print(f\"ROC AUC: {roc_auc_score(y_true, y_prob)}\")"
   ]
  },
  {
   "cell_type": "code",
   "execution_count": 132,
   "metadata": {},
   "outputs": [
    {
     "name": "stdout",
     "output_type": "stream",
     "text": [
      "Training score\n",
      "Accuracy: 0.9445015052240128\n",
      "Recall: 0.6748166259168704\n",
      "Precision: 0.6047326906222612\n",
      "ROC AUC: 0.9228301737070925\n",
      "Test score\n",
      "Accuracy: 0.9433931080076027\n",
      "Recall: 0.657271702367531\n",
      "Precision: 0.6047717842323651\n",
      "ROC AUC: 0.9008339149263613\n"
     ]
    }
   ],
   "source": [
    "print('Training score')\n",
    "get_scores(y_train, GBC.predict(X_train),GBC.predict_proba(X_train)[:,1])\n",
    "\n",
    "print('Test score')\n",
    "get_scores(y_test, GBC.predict(X_test),GBC.predict_proba(X_test)[:,1])"
   ]
  },
  {
   "cell_type": "markdown",
   "metadata": {},
   "source": [
    "## joining all the data"
   ]
  },
  {
   "cell_type": "code",
   "execution_count": 3,
   "metadata": {},
   "outputs": [],
   "source": [
    "data_full = pd.concat( (pd.read_csv(file,sep='|') for file in files),ignore_index=True )"
   ]
  },
  {
   "cell_type": "code",
   "execution_count": 4,
   "metadata": {},
   "outputs": [],
   "source": [
    "#data2 = pd.concat( (pd.read_csv(file,sep='|') for file in files2),ignore_index=True )"
   ]
  },
  {
   "cell_type": "code",
   "execution_count": 5,
   "metadata": {},
   "outputs": [],
   "source": [
    "#data_full = pd.concat([data1,data2],ignore_index=True)"
   ]
  },
  {
   "cell_type": "code",
   "execution_count": 6,
   "metadata": {},
   "outputs": [
    {
     "data": {
      "text/html": [
       "<div>\n",
       "<style scoped>\n",
       "    .dataframe tbody tr th:only-of-type {\n",
       "        vertical-align: middle;\n",
       "    }\n",
       "\n",
       "    .dataframe tbody tr th {\n",
       "        vertical-align: top;\n",
       "    }\n",
       "\n",
       "    .dataframe thead th {\n",
       "        text-align: right;\n",
       "    }\n",
       "</style>\n",
       "<table border=\"1\" class=\"dataframe\">\n",
       "  <thead>\n",
       "    <tr style=\"text-align: right;\">\n",
       "      <th></th>\n",
       "      <th>HR</th>\n",
       "      <th>O2Sat</th>\n",
       "      <th>Temp</th>\n",
       "      <th>SBP</th>\n",
       "      <th>MAP</th>\n",
       "      <th>DBP</th>\n",
       "      <th>Resp</th>\n",
       "      <th>EtCO2</th>\n",
       "      <th>BaseExcess</th>\n",
       "      <th>HCO3</th>\n",
       "      <th>...</th>\n",
       "      <th>WBC</th>\n",
       "      <th>Fibrinogen</th>\n",
       "      <th>Platelets</th>\n",
       "      <th>Age</th>\n",
       "      <th>Gender</th>\n",
       "      <th>Unit1</th>\n",
       "      <th>Unit2</th>\n",
       "      <th>HospAdmTime</th>\n",
       "      <th>ICULOS</th>\n",
       "      <th>SepsisLabel</th>\n",
       "    </tr>\n",
       "  </thead>\n",
       "  <tbody>\n",
       "    <tr>\n",
       "      <th>1552205</th>\n",
       "      <td>85.0</td>\n",
       "      <td>100.0</td>\n",
       "      <td>NaN</td>\n",
       "      <td>124.0</td>\n",
       "      <td>92.0</td>\n",
       "      <td>75.0</td>\n",
       "      <td>NaN</td>\n",
       "      <td>NaN</td>\n",
       "      <td>NaN</td>\n",
       "      <td>NaN</td>\n",
       "      <td>...</td>\n",
       "      <td>NaN</td>\n",
       "      <td>NaN</td>\n",
       "      <td>NaN</td>\n",
       "      <td>26.0</td>\n",
       "      <td>0</td>\n",
       "      <td>1.0</td>\n",
       "      <td>0.0</td>\n",
       "      <td>-0.19</td>\n",
       "      <td>41</td>\n",
       "      <td>0</td>\n",
       "    </tr>\n",
       "    <tr>\n",
       "      <th>1552206</th>\n",
       "      <td>103.0</td>\n",
       "      <td>100.0</td>\n",
       "      <td>36.5</td>\n",
       "      <td>120.0</td>\n",
       "      <td>93.0</td>\n",
       "      <td>75.0</td>\n",
       "      <td>31.0</td>\n",
       "      <td>NaN</td>\n",
       "      <td>NaN</td>\n",
       "      <td>NaN</td>\n",
       "      <td>...</td>\n",
       "      <td>NaN</td>\n",
       "      <td>NaN</td>\n",
       "      <td>NaN</td>\n",
       "      <td>26.0</td>\n",
       "      <td>0</td>\n",
       "      <td>1.0</td>\n",
       "      <td>0.0</td>\n",
       "      <td>-0.19</td>\n",
       "      <td>42</td>\n",
       "      <td>0</td>\n",
       "    </tr>\n",
       "    <tr>\n",
       "      <th>1552207</th>\n",
       "      <td>88.0</td>\n",
       "      <td>100.0</td>\n",
       "      <td>NaN</td>\n",
       "      <td>128.0</td>\n",
       "      <td>99.0</td>\n",
       "      <td>78.0</td>\n",
       "      <td>28.0</td>\n",
       "      <td>NaN</td>\n",
       "      <td>NaN</td>\n",
       "      <td>NaN</td>\n",
       "      <td>...</td>\n",
       "      <td>NaN</td>\n",
       "      <td>NaN</td>\n",
       "      <td>NaN</td>\n",
       "      <td>26.0</td>\n",
       "      <td>0</td>\n",
       "      <td>1.0</td>\n",
       "      <td>0.0</td>\n",
       "      <td>-0.19</td>\n",
       "      <td>43</td>\n",
       "      <td>0</td>\n",
       "    </tr>\n",
       "    <tr>\n",
       "      <th>1552208</th>\n",
       "      <td>101.0</td>\n",
       "      <td>100.0</td>\n",
       "      <td>NaN</td>\n",
       "      <td>126.0</td>\n",
       "      <td>93.0</td>\n",
       "      <td>71.0</td>\n",
       "      <td>24.0</td>\n",
       "      <td>NaN</td>\n",
       "      <td>NaN</td>\n",
       "      <td>NaN</td>\n",
       "      <td>...</td>\n",
       "      <td>NaN</td>\n",
       "      <td>NaN</td>\n",
       "      <td>NaN</td>\n",
       "      <td>26.0</td>\n",
       "      <td>0</td>\n",
       "      <td>1.0</td>\n",
       "      <td>0.0</td>\n",
       "      <td>-0.19</td>\n",
       "      <td>44</td>\n",
       "      <td>0</td>\n",
       "    </tr>\n",
       "    <tr>\n",
       "      <th>1552209</th>\n",
       "      <td>77.0</td>\n",
       "      <td>100.0</td>\n",
       "      <td>NaN</td>\n",
       "      <td>127.0</td>\n",
       "      <td>99.0</td>\n",
       "      <td>80.0</td>\n",
       "      <td>26.0</td>\n",
       "      <td>NaN</td>\n",
       "      <td>NaN</td>\n",
       "      <td>NaN</td>\n",
       "      <td>...</td>\n",
       "      <td>NaN</td>\n",
       "      <td>NaN</td>\n",
       "      <td>NaN</td>\n",
       "      <td>26.0</td>\n",
       "      <td>0</td>\n",
       "      <td>1.0</td>\n",
       "      <td>0.0</td>\n",
       "      <td>-0.19</td>\n",
       "      <td>45</td>\n",
       "      <td>0</td>\n",
       "    </tr>\n",
       "  </tbody>\n",
       "</table>\n",
       "<p>5 rows × 41 columns</p>\n",
       "</div>"
      ],
      "text/plain": [
       "            HR  O2Sat  Temp    SBP   MAP   DBP  Resp  EtCO2  BaseExcess  HCO3  \\\n",
       "1552205   85.0  100.0   NaN  124.0  92.0  75.0   NaN    NaN         NaN   NaN   \n",
       "1552206  103.0  100.0  36.5  120.0  93.0  75.0  31.0    NaN         NaN   NaN   \n",
       "1552207   88.0  100.0   NaN  128.0  99.0  78.0  28.0    NaN         NaN   NaN   \n",
       "1552208  101.0  100.0   NaN  126.0  93.0  71.0  24.0    NaN         NaN   NaN   \n",
       "1552209   77.0  100.0   NaN  127.0  99.0  80.0  26.0    NaN         NaN   NaN   \n",
       "\n",
       "         ...  WBC  Fibrinogen  Platelets   Age  Gender  Unit1  Unit2  \\\n",
       "1552205  ...  NaN         NaN        NaN  26.0       0    1.0    0.0   \n",
       "1552206  ...  NaN         NaN        NaN  26.0       0    1.0    0.0   \n",
       "1552207  ...  NaN         NaN        NaN  26.0       0    1.0    0.0   \n",
       "1552208  ...  NaN         NaN        NaN  26.0       0    1.0    0.0   \n",
       "1552209  ...  NaN         NaN        NaN  26.0       0    1.0    0.0   \n",
       "\n",
       "         HospAdmTime  ICULOS  SepsisLabel  \n",
       "1552205        -0.19      41            0  \n",
       "1552206        -0.19      42            0  \n",
       "1552207        -0.19      43            0  \n",
       "1552208        -0.19      44            0  \n",
       "1552209        -0.19      45            0  \n",
       "\n",
       "[5 rows x 41 columns]"
      ]
     },
     "execution_count": 6,
     "metadata": {},
     "output_type": "execute_result"
    }
   ],
   "source": [
    "data_full.tail()"
   ]
  },
  {
   "cell_type": "code",
   "execution_count": 7,
   "metadata": {},
   "outputs": [],
   "source": [
    "count_NAs = data_full.isna().sum()\n",
    "test = count_NAs/len(data_full)*100"
   ]
  },
  {
   "cell_type": "code",
   "execution_count": 8,
   "metadata": {},
   "outputs": [
    {
     "data": {
      "text/plain": [
       "['HR',\n",
       " 'O2Sat',\n",
       " 'SBP',\n",
       " 'MAP',\n",
       " 'DBP',\n",
       " 'Resp',\n",
       " 'Age',\n",
       " 'Gender',\n",
       " 'Unit1',\n",
       " 'Unit2',\n",
       " 'HospAdmTime',\n",
       " 'ICULOS',\n",
       " 'SepsisLabel']"
      ]
     },
     "execution_count": 8,
     "metadata": {},
     "output_type": "execute_result"
    }
   ],
   "source": [
    "list(test[test<40].index)"
   ]
  },
  {
   "cell_type": "code",
   "execution_count": 9,
   "metadata": {},
   "outputs": [],
   "source": [
    "data = data_full[list(test[test<40].index)]"
   ]
  },
  {
   "cell_type": "code",
   "execution_count": 11,
   "metadata": {},
   "outputs": [],
   "source": [
    "data = data.fillna(data.mean())"
   ]
  },
  {
   "cell_type": "code",
   "execution_count": 12,
   "metadata": {},
   "outputs": [
    {
     "data": {
      "text/html": [
       "<div>\n",
       "<style scoped>\n",
       "    .dataframe tbody tr th:only-of-type {\n",
       "        vertical-align: middle;\n",
       "    }\n",
       "\n",
       "    .dataframe tbody tr th {\n",
       "        vertical-align: top;\n",
       "    }\n",
       "\n",
       "    .dataframe thead th {\n",
       "        text-align: right;\n",
       "    }\n",
       "</style>\n",
       "<table border=\"1\" class=\"dataframe\">\n",
       "  <thead>\n",
       "    <tr style=\"text-align: right;\">\n",
       "      <th></th>\n",
       "      <th>HR</th>\n",
       "      <th>O2Sat</th>\n",
       "      <th>SBP</th>\n",
       "      <th>MAP</th>\n",
       "      <th>DBP</th>\n",
       "      <th>Resp</th>\n",
       "      <th>Age</th>\n",
       "      <th>Gender</th>\n",
       "      <th>Unit1</th>\n",
       "      <th>Unit2</th>\n",
       "      <th>HospAdmTime</th>\n",
       "      <th>ICULOS</th>\n",
       "      <th>SepsisLabel</th>\n",
       "    </tr>\n",
       "  </thead>\n",
       "  <tbody>\n",
       "    <tr>\n",
       "      <th>0</th>\n",
       "      <td>74.0</td>\n",
       "      <td>100.0</td>\n",
       "      <td>123.750465</td>\n",
       "      <td>101.0</td>\n",
       "      <td>63.830556</td>\n",
       "      <td>14.5</td>\n",
       "      <td>47.2</td>\n",
       "      <td>1</td>\n",
       "      <td>0.496571</td>\n",
       "      <td>0.503429</td>\n",
       "      <td>-0.01</td>\n",
       "      <td>3</td>\n",
       "      <td>1</td>\n",
       "    </tr>\n",
       "    <tr>\n",
       "      <th>1</th>\n",
       "      <td>72.0</td>\n",
       "      <td>98.0</td>\n",
       "      <td>123.750465</td>\n",
       "      <td>81.0</td>\n",
       "      <td>63.830556</td>\n",
       "      <td>14.5</td>\n",
       "      <td>47.2</td>\n",
       "      <td>1</td>\n",
       "      <td>0.496571</td>\n",
       "      <td>0.503429</td>\n",
       "      <td>-0.01</td>\n",
       "      <td>4</td>\n",
       "      <td>1</td>\n",
       "    </tr>\n",
       "    <tr>\n",
       "      <th>2</th>\n",
       "      <td>75.0</td>\n",
       "      <td>100.0</td>\n",
       "      <td>123.750465</td>\n",
       "      <td>83.0</td>\n",
       "      <td>63.830556</td>\n",
       "      <td>14.0</td>\n",
       "      <td>47.2</td>\n",
       "      <td>1</td>\n",
       "      <td>0.496571</td>\n",
       "      <td>0.503429</td>\n",
       "      <td>-0.01</td>\n",
       "      <td>5</td>\n",
       "      <td>1</td>\n",
       "    </tr>\n",
       "    <tr>\n",
       "      <th>3</th>\n",
       "      <td>63.0</td>\n",
       "      <td>100.0</td>\n",
       "      <td>123.750465</td>\n",
       "      <td>64.0</td>\n",
       "      <td>63.830556</td>\n",
       "      <td>14.0</td>\n",
       "      <td>47.2</td>\n",
       "      <td>1</td>\n",
       "      <td>0.496571</td>\n",
       "      <td>0.503429</td>\n",
       "      <td>-0.01</td>\n",
       "      <td>6</td>\n",
       "      <td>1</td>\n",
       "    </tr>\n",
       "    <tr>\n",
       "      <th>4</th>\n",
       "      <td>61.0</td>\n",
       "      <td>100.0</td>\n",
       "      <td>123.750465</td>\n",
       "      <td>66.0</td>\n",
       "      <td>63.830556</td>\n",
       "      <td>14.5</td>\n",
       "      <td>47.2</td>\n",
       "      <td>1</td>\n",
       "      <td>0.496571</td>\n",
       "      <td>0.503429</td>\n",
       "      <td>-0.01</td>\n",
       "      <td>7</td>\n",
       "      <td>1</td>\n",
       "    </tr>\n",
       "  </tbody>\n",
       "</table>\n",
       "</div>"
      ],
      "text/plain": [
       "     HR  O2Sat         SBP    MAP        DBP  Resp   Age  Gender     Unit1  \\\n",
       "0  74.0  100.0  123.750465  101.0  63.830556  14.5  47.2       1  0.496571   \n",
       "1  72.0   98.0  123.750465   81.0  63.830556  14.5  47.2       1  0.496571   \n",
       "2  75.0  100.0  123.750465   83.0  63.830556  14.0  47.2       1  0.496571   \n",
       "3  63.0  100.0  123.750465   64.0  63.830556  14.0  47.2       1  0.496571   \n",
       "4  61.0  100.0  123.750465   66.0  63.830556  14.5  47.2       1  0.496571   \n",
       "\n",
       "      Unit2  HospAdmTime  ICULOS  SepsisLabel  \n",
       "0  0.503429        -0.01       3            1  \n",
       "1  0.503429        -0.01       4            1  \n",
       "2  0.503429        -0.01       5            1  \n",
       "3  0.503429        -0.01       6            1  \n",
       "4  0.503429        -0.01       7            1  "
      ]
     },
     "execution_count": 12,
     "metadata": {},
     "output_type": "execute_result"
    }
   ],
   "source": [
    "data.head()"
   ]
  },
  {
   "cell_type": "code",
   "execution_count": 13,
   "metadata": {},
   "outputs": [
    {
     "data": {
      "text/plain": [
       "(1552210, 12)"
      ]
     },
     "execution_count": 13,
     "metadata": {},
     "output_type": "execute_result"
    }
   ],
   "source": [
    "# Select target\n",
    "y = data.SepsisLabel\n",
    "# Select predictors\n",
    "X = data.iloc[:,0:12]\n",
    "X.shape"
   ]
  },
  {
   "cell_type": "code",
   "execution_count": 14,
   "metadata": {},
   "outputs": [
    {
     "data": {
      "text/html": [
       "<div>\n",
       "<style scoped>\n",
       "    .dataframe tbody tr th:only-of-type {\n",
       "        vertical-align: middle;\n",
       "    }\n",
       "\n",
       "    .dataframe tbody tr th {\n",
       "        vertical-align: top;\n",
       "    }\n",
       "\n",
       "    .dataframe thead th {\n",
       "        text-align: right;\n",
       "    }\n",
       "</style>\n",
       "<table border=\"1\" class=\"dataframe\">\n",
       "  <thead>\n",
       "    <tr style=\"text-align: right;\">\n",
       "      <th></th>\n",
       "      <th>HR</th>\n",
       "      <th>O2Sat</th>\n",
       "      <th>SBP</th>\n",
       "      <th>MAP</th>\n",
       "      <th>DBP</th>\n",
       "      <th>Resp</th>\n",
       "      <th>Age</th>\n",
       "      <th>Gender</th>\n",
       "      <th>Unit1</th>\n",
       "      <th>Unit2</th>\n",
       "      <th>HospAdmTime</th>\n",
       "      <th>ICULOS</th>\n",
       "    </tr>\n",
       "  </thead>\n",
       "  <tbody>\n",
       "    <tr>\n",
       "      <th>0</th>\n",
       "      <td>74.0</td>\n",
       "      <td>100.0</td>\n",
       "      <td>123.750465</td>\n",
       "      <td>101.0</td>\n",
       "      <td>63.830556</td>\n",
       "      <td>14.5</td>\n",
       "      <td>47.2</td>\n",
       "      <td>1</td>\n",
       "      <td>0.496571</td>\n",
       "      <td>0.503429</td>\n",
       "      <td>-0.01</td>\n",
       "      <td>3</td>\n",
       "    </tr>\n",
       "    <tr>\n",
       "      <th>1</th>\n",
       "      <td>72.0</td>\n",
       "      <td>98.0</td>\n",
       "      <td>123.750465</td>\n",
       "      <td>81.0</td>\n",
       "      <td>63.830556</td>\n",
       "      <td>14.5</td>\n",
       "      <td>47.2</td>\n",
       "      <td>1</td>\n",
       "      <td>0.496571</td>\n",
       "      <td>0.503429</td>\n",
       "      <td>-0.01</td>\n",
       "      <td>4</td>\n",
       "    </tr>\n",
       "    <tr>\n",
       "      <th>2</th>\n",
       "      <td>75.0</td>\n",
       "      <td>100.0</td>\n",
       "      <td>123.750465</td>\n",
       "      <td>83.0</td>\n",
       "      <td>63.830556</td>\n",
       "      <td>14.0</td>\n",
       "      <td>47.2</td>\n",
       "      <td>1</td>\n",
       "      <td>0.496571</td>\n",
       "      <td>0.503429</td>\n",
       "      <td>-0.01</td>\n",
       "      <td>5</td>\n",
       "    </tr>\n",
       "    <tr>\n",
       "      <th>3</th>\n",
       "      <td>63.0</td>\n",
       "      <td>100.0</td>\n",
       "      <td>123.750465</td>\n",
       "      <td>64.0</td>\n",
       "      <td>63.830556</td>\n",
       "      <td>14.0</td>\n",
       "      <td>47.2</td>\n",
       "      <td>1</td>\n",
       "      <td>0.496571</td>\n",
       "      <td>0.503429</td>\n",
       "      <td>-0.01</td>\n",
       "      <td>6</td>\n",
       "    </tr>\n",
       "    <tr>\n",
       "      <th>4</th>\n",
       "      <td>61.0</td>\n",
       "      <td>100.0</td>\n",
       "      <td>123.750465</td>\n",
       "      <td>66.0</td>\n",
       "      <td>63.830556</td>\n",
       "      <td>14.5</td>\n",
       "      <td>47.2</td>\n",
       "      <td>1</td>\n",
       "      <td>0.496571</td>\n",
       "      <td>0.503429</td>\n",
       "      <td>-0.01</td>\n",
       "      <td>7</td>\n",
       "    </tr>\n",
       "  </tbody>\n",
       "</table>\n",
       "</div>"
      ],
      "text/plain": [
       "     HR  O2Sat         SBP    MAP        DBP  Resp   Age  Gender     Unit1  \\\n",
       "0  74.0  100.0  123.750465  101.0  63.830556  14.5  47.2       1  0.496571   \n",
       "1  72.0   98.0  123.750465   81.0  63.830556  14.5  47.2       1  0.496571   \n",
       "2  75.0  100.0  123.750465   83.0  63.830556  14.0  47.2       1  0.496571   \n",
       "3  63.0  100.0  123.750465   64.0  63.830556  14.0  47.2       1  0.496571   \n",
       "4  61.0  100.0  123.750465   66.0  63.830556  14.5  47.2       1  0.496571   \n",
       "\n",
       "      Unit2  HospAdmTime  ICULOS  \n",
       "0  0.503429        -0.01       3  \n",
       "1  0.503429        -0.01       4  \n",
       "2  0.503429        -0.01       5  \n",
       "3  0.503429        -0.01       6  \n",
       "4  0.503429        -0.01       7  "
      ]
     },
     "execution_count": 14,
     "metadata": {},
     "output_type": "execute_result"
    }
   ],
   "source": [
    "X.head()"
   ]
  },
  {
   "cell_type": "code",
   "execution_count": 15,
   "metadata": {},
   "outputs": [
    {
     "name": "stdout",
     "output_type": "stream",
     "text": [
      "                 HR         O2Sat           SBP           MAP           DBP  \\\n",
      "count  1.552210e+06  1.552210e+06  1.552210e+06  1.552210e+06  1.552210e+06   \n",
      "mean   8.458144e+01  9.719395e+01  1.237505e+02  8.240010e+01  6.383056e+01   \n",
      "std    1.644688e+01  2.738418e+00  2.147167e+01  1.529056e+01  1.156364e+01   \n",
      "min    2.000000e+01  2.000000e+01  2.000000e+01  2.000000e+01  2.000000e+01   \n",
      "25%    7.400000e+01  9.600000e+01  1.090000e+02  7.200000e+01  5.800000e+01   \n",
      "50%    8.458144e+01  9.719395e+01  1.237505e+02  8.240010e+01  6.383056e+01   \n",
      "75%    9.400000e+01  9.900000e+01  1.350000e+02  9.000000e+01  6.700000e+01   \n",
      "max    2.800000e+02  1.000000e+02  3.000000e+02  3.000000e+02  3.000000e+02   \n",
      "\n",
      "               Resp           Age        Gender         Unit1         Unit2  \\\n",
      "count  1.552210e+06  1.552210e+06  1.552210e+06  1.552210e+06  1.552210e+06   \n",
      "mean   1.872650e+01  6.200947e+01  5.592690e-01  4.965711e-01  5.034289e-01   \n",
      "std    4.690489e+00  1.638622e+01  4.964749e-01  3.891404e-01  3.891404e-01   \n",
      "min    1.000000e+00  1.400000e+01  0.000000e+00  0.000000e+00  0.000000e+00   \n",
      "25%    1.600000e+01  5.168000e+01  0.000000e+00  0.000000e+00  0.000000e+00   \n",
      "50%    1.872650e+01  6.400000e+01  1.000000e+00  4.965711e-01  5.034289e-01   \n",
      "75%    2.100000e+01  7.400000e+01  1.000000e+00  1.000000e+00  1.000000e+00   \n",
      "max    1.000000e+02  1.000000e+02  1.000000e+00  1.000000e+00  1.000000e+00   \n",
      "\n",
      "        HospAdmTime        ICULOS  \n",
      "count  1.552210e+06  1.552210e+06  \n",
      "mean  -5.612512e+01  2.699499e+01  \n",
      "std    1.622565e+02  2.900542e+01  \n",
      "min   -5.366860e+03  1.000000e+00  \n",
      "25%   -4.705000e+01  1.100000e+01  \n",
      "50%   -6.030000e+00  2.100000e+01  \n",
      "75%   -4.000000e-02  3.400000e+01  \n",
      "max    2.399000e+01  3.360000e+02  \n"
     ]
    }
   ],
   "source": [
    "print(X.describe())"
   ]
  },
  {
   "cell_type": "code",
   "execution_count": 16,
   "metadata": {},
   "outputs": [
    {
     "data": {
      "text/plain": [
       "HR              84.581443\n",
       "O2Sat           97.193955\n",
       "SBP            123.750465\n",
       "MAP             82.400100\n",
       "DBP             63.830556\n",
       "Resp            18.726498\n",
       "Age             64.000000\n",
       "Gender           1.000000\n",
       "Unit1            0.496571\n",
       "Unit2            0.503429\n",
       "HospAdmTime     -6.030000\n",
       "ICULOS          21.000000\n",
       "dtype: float64"
      ]
     },
     "execution_count": 16,
     "metadata": {},
     "output_type": "execute_result"
    }
   ],
   "source": [
    "X.median()"
   ]
  },
  {
   "cell_type": "code",
   "execution_count": 17,
   "metadata": {},
   "outputs": [],
   "source": [
    "#Standardization\n",
    "from sklearn.preprocessing import StandardScaler\n",
    "scaler = StandardScaler()\n",
    "continuous_variables = ['HR','O2Sat','SBP','MAP','DBP','Resp','Age','HospAdmTime','ICULOS']\n",
    "X[continuous_variables] = scaler.fit_transform(X[continuous_variables])"
   ]
  },
  {
   "cell_type": "code",
   "execution_count": 18,
   "metadata": {},
   "outputs": [],
   "source": [
    "#Split train test set\n",
    "from sklearn.model_selection import train_test_split\n",
    "X_train, X_test, y_train, y_test = train_test_split(X, y, test_size=0.3, random_state=101)"
   ]
  },
  {
   "cell_type": "code",
   "execution_count": 19,
   "metadata": {},
   "outputs": [
    {
     "data": {
      "text/plain": [
       "0    465579\n",
       "1        84\n",
       "dtype: int64"
      ]
     },
     "execution_count": 19,
     "metadata": {},
     "output_type": "execute_result"
    }
   ],
   "source": [
    "from sklearn.linear_model import LogisticRegression\n",
    "logitreg = LogisticRegression(solver = 'liblinear')\n",
    "result = logitreg.fit(X_train, np.ravel(y_train))\n",
    "# predict the output for test dataset\n",
    "y_test_pred = logitreg.predict(X_test)\n",
    "pd.Series(y_test_pred).value_counts()"
   ]
  },
  {
   "cell_type": "code",
   "execution_count": 20,
   "metadata": {},
   "outputs": [
    {
     "name": "stdout",
     "output_type": "stream",
     "text": [
      "Accuracy: 0.9820170380725975\n",
      "Precision: 0.16666666666666666\n",
      "Recall: 0.001683096898292859\n"
     ]
    },
    {
     "data": {
      "text/html": [
       "<div>\n",
       "<style scoped>\n",
       "    .dataframe tbody tr th:only-of-type {\n",
       "        vertical-align: middle;\n",
       "    }\n",
       "\n",
       "    .dataframe tbody tr th {\n",
       "        vertical-align: top;\n",
       "    }\n",
       "\n",
       "    .dataframe thead th {\n",
       "        text-align: right;\n",
       "    }\n",
       "</style>\n",
       "<table border=\"1\" class=\"dataframe\">\n",
       "  <thead>\n",
       "    <tr style=\"text-align: right;\">\n",
       "      <th></th>\n",
       "      <th>Predict_False</th>\n",
       "      <th>Predict_True</th>\n",
       "    </tr>\n",
       "  </thead>\n",
       "  <tbody>\n",
       "    <tr>\n",
       "      <th>Real_False</th>\n",
       "      <td>457275</td>\n",
       "      <td>70</td>\n",
       "    </tr>\n",
       "    <tr>\n",
       "      <th>Real_True</th>\n",
       "      <td>8304</td>\n",
       "      <td>14</td>\n",
       "    </tr>\n",
       "  </tbody>\n",
       "</table>\n",
       "</div>"
      ],
      "text/plain": [
       "            Predict_False  Predict_True\n",
       "Real_False         457275            70\n",
       "Real_True            8304            14"
      ]
     },
     "execution_count": 20,
     "metadata": {},
     "output_type": "execute_result"
    }
   ],
   "source": [
    "from sklearn.metrics import accuracy_score,precision_score, recall_score, confusion_matrix\n",
    "y_test_ar = np.array(y_test)\n",
    "y_test_pred_ar = np.array(y_test_pred)\n",
    "print(\"Accuracy:\",accuracy_score(y_test_ar, y_test_pred_ar))\n",
    "print(\"Precision:\",precision_score(y_test_ar, y_test_pred_ar))\n",
    "print(\"Recall:\",recall_score(y_test_ar, y_test_pred_ar))\n",
    "pd.DataFrame(confusion_matrix(y_test_ar,y_test_pred_ar),index=[\"Real_False\", \"Real_True\"], columns=[\"Predict_False\", \"Predict_True\"])"
   ]
  },
  {
   "cell_type": "code",
   "execution_count": null,
   "metadata": {},
   "outputs": [],
   "source": [
    "# calculate the fpr and tpr for all thresholds of the classification\n",
    "from sklearn.metrics import roc_curve, auc\n",
    "probs = logitreg.predict_proba(X_test)\n",
    "preds = probs[:,1]\n",
    "fpr, tpr, threshold = roc_curve(y_test_ar, preds)\n",
    "roc_auc = auc(fpr, tpr)\n",
    "\n",
    "# Plot the ROC curve by giving appropriate names for title and axes. \n",
    "import matplotlib.pyplot as plt\n",
    "plt.title('Logistic Regression ROC')\n",
    "plt.plot(fpr, tpr, 'b', label = 'AUC = %0.2f' % roc_auc)\n",
    "plt.legend(loc = 'lower right')\n",
    "plt.plot([0, 1], [0, 1],'r--')\n",
    "plt.xlim([0, 1])\n",
    "plt.ylim([0, 1])\n",
    "plt.ylabel('True Positive Rate')\n",
    "plt.xlabel('False Positive Rate')\n",
    "plt.show()"
   ]
  },
  {
   "cell_type": "code",
   "execution_count": 104,
   "metadata": {},
   "outputs": [
    {
     "data": {
      "text/plain": [
       "0    456208\n",
       "1      9455\n",
       "dtype: int64"
      ]
     },
     "execution_count": 104,
     "metadata": {},
     "output_type": "execute_result"
    }
   ],
   "source": [
    "from sklearn.tree import DecisionTreeClassifier\n",
    "clf = DecisionTreeClassifier(random_state=26)\n",
    "model = clf.fit(X_train, y_train)\n",
    "y_test_pred = clf.predict(X_test)\n",
    "pd.Series(y_test_pred).value_counts()"
   ]
  },
  {
   "cell_type": "code",
   "execution_count": 105,
   "metadata": {},
   "outputs": [
    {
     "name": "stdout",
     "output_type": "stream",
     "text": [
      "Accuracy: 0.9765302375322926\n",
      "Precision: 0.3619249074563723\n",
      "Recall: 0.4113969704255831\n"
     ]
    },
    {
     "data": {
      "text/html": [
       "<div>\n",
       "<style scoped>\n",
       "    .dataframe tbody tr th:only-of-type {\n",
       "        vertical-align: middle;\n",
       "    }\n",
       "\n",
       "    .dataframe tbody tr th {\n",
       "        vertical-align: top;\n",
       "    }\n",
       "\n",
       "    .dataframe thead th {\n",
       "        text-align: right;\n",
       "    }\n",
       "</style>\n",
       "<table border=\"1\" class=\"dataframe\">\n",
       "  <thead>\n",
       "    <tr style=\"text-align: right;\">\n",
       "      <th></th>\n",
       "      <th>Predict_False</th>\n",
       "      <th>Predict_True</th>\n",
       "    </tr>\n",
       "  </thead>\n",
       "  <tbody>\n",
       "    <tr>\n",
       "      <th>Real_False</th>\n",
       "      <td>451312</td>\n",
       "      <td>6033</td>\n",
       "    </tr>\n",
       "    <tr>\n",
       "      <th>Real_True</th>\n",
       "      <td>4896</td>\n",
       "      <td>3422</td>\n",
       "    </tr>\n",
       "  </tbody>\n",
       "</table>\n",
       "</div>"
      ],
      "text/plain": [
       "            Predict_False  Predict_True\n",
       "Real_False         451312          6033\n",
       "Real_True            4896          3422"
      ]
     },
     "execution_count": 105,
     "metadata": {},
     "output_type": "execute_result"
    }
   ],
   "source": [
    "y_test_ar = np.array(y_test)\n",
    "y_test_pred_ar = np.array(y_test_pred)\n",
    "print(\"Accuracy:\",accuracy_score(y_test_ar, y_test_pred_ar))\n",
    "print(\"Precision:\",precision_score(y_test_ar, y_test_pred_ar))\n",
    "print(\"Recall:\",recall_score(y_test_ar, y_test_pred_ar))\n",
    "pd.DataFrame(confusion_matrix(y_test_ar,y_test_pred_ar),index=[\"Real_False\", \"Real_True\"], columns=[\"Predict_False\", \"Predict_True\"])"
   ]
  },
  {
   "cell_type": "code",
   "execution_count": 108,
   "metadata": {},
   "outputs": [
    {
     "data": {
      "image/png": "[encoded data removed]",
      "text/plain": [
       "<Figure size 432x288 with 1 Axes>"
      ]
     },
     "metadata": {
      "needs_background": "light"
     },
     "output_type": "display_data"
    }
   ],
   "source": [
    "from sklearn.metrics import roc_curve, auc\n",
    "import matplotlib.pyplot as plt\n",
    "probs = clf.predict_proba(X_test)\n",
    "preds = probs[:,1]\n",
    "fpr, tpr, threshold = roc_curve(y_test_ar, preds)\n",
    "roc_auc = auc(fpr, tpr)\n",
    "\n",
    "plt.title('Decision Tree ROC')\n",
    "plt.plot(fpr, tpr, 'b', label = 'AUC = %0.2f' % roc_auc)\n",
    "plt.legend(loc = 'lower right')\n",
    "plt.plot([0, 1], [0, 1],'r--')\n",
    "plt.xlim([0, 1])\n",
    "plt.ylim([0, 1])\n",
    "plt.ylabel('True Positive Rate')\n",
    "plt.xlabel('False Positive Rate')\n",
    "plt.show()"
   ]
  },
  {
   "cell_type": "code",
   "execution_count": 23,
   "metadata": {},
   "outputs": [
    {
     "name": "stderr",
     "output_type": "stream",
     "text": [
      "/Users/Elisa/anaconda3/lib/python3.7/site-packages/sklearn/ensemble/forest.py:245: FutureWarning: The default value of n_estimators will change from 10 in version 0.20 to 100 in 0.22.\n",
      "  \"10 in version 0.20 to 100 in 0.22.\", FutureWarning)\n"
     ]
    },
    {
     "data": {
      "text/plain": [
       "0    464736\n",
       "1       927\n",
       "dtype: int64"
      ]
     },
     "execution_count": 23,
     "metadata": {},
     "output_type": "execute_result"
    }
   ],
   "source": [
    "from sklearn.ensemble import RandomForestClassifier\n",
    "### Fit the classifier on the training data\n",
    "\n",
    "clf = RandomForestClassifier(random_state=26)\n",
    "model = clf.fit(X_train, y_train)\n",
    "y_test_pred = clf.predict(X_test)\n",
    "pd.Series(y_test_pred).value_counts()"
   ]
  },
  {
   "cell_type": "code",
   "execution_count": 24,
   "metadata": {},
   "outputs": [
    {
     "name": "stdout",
     "output_type": "stream",
     "text": [
      "Accuracy: 0.9835911377970764\n",
      "Precision: 0.8651564185544768\n",
      "Recall: 0.09641740803077663\n"
     ]
    },
    {
     "data": {
      "text/html": [
       "<div>\n",
       "<style scoped>\n",
       "    .dataframe tbody tr th:only-of-type {\n",
       "        vertical-align: middle;\n",
       "    }\n",
       "\n",
       "    .dataframe tbody tr th {\n",
       "        vertical-align: top;\n",
       "    }\n",
       "\n",
       "    .dataframe thead th {\n",
       "        text-align: right;\n",
       "    }\n",
       "</style>\n",
       "<table border=\"1\" class=\"dataframe\">\n",
       "  <thead>\n",
       "    <tr style=\"text-align: right;\">\n",
       "      <th></th>\n",
       "      <th>Predict_False</th>\n",
       "      <th>Predict_True</th>\n",
       "    </tr>\n",
       "  </thead>\n",
       "  <tbody>\n",
       "    <tr>\n",
       "      <th>Real_False</th>\n",
       "      <td>457220</td>\n",
       "      <td>125</td>\n",
       "    </tr>\n",
       "    <tr>\n",
       "      <th>Real_True</th>\n",
       "      <td>7516</td>\n",
       "      <td>802</td>\n",
       "    </tr>\n",
       "  </tbody>\n",
       "</table>\n",
       "</div>"
      ],
      "text/plain": [
       "            Predict_False  Predict_True\n",
       "Real_False         457220           125\n",
       "Real_True            7516           802"
      ]
     },
     "execution_count": 24,
     "metadata": {},
     "output_type": "execute_result"
    }
   ],
   "source": [
    "y_test_ar = np.array(y_test)\n",
    "y_test_pred_ar = np.array(y_test_pred)\n",
    "print(\"Accuracy:\",accuracy_score(y_test_ar, y_test_pred_ar))\n",
    "print(\"Precision:\",precision_score(y_test_ar, y_test_pred_ar))\n",
    "print(\"Recall:\",recall_score(y_test_ar, y_test_pred_ar))\n",
    "pd.DataFrame(confusion_matrix(y_test_ar,y_test_pred_ar),index=[\"Real_False\", \"Real_True\"], columns=[\"Predict_False\", \"Predict_True\"])"
   ]
  },
  {
   "cell_type": "code",
   "execution_count": null,
   "metadata": {},
   "outputs": [],
   "source": [
    "probs = clf.predict_proba(X_test)\n",
    "preds = probs[:,1]\n",
    "fpr, tpr, threshold = roc_curve(y_test_ar, preds)\n",
    "roc_auc = auc(fpr, tpr)\n",
    "\n",
    "plt.title('Random Forest ROC')\n",
    "plt.plot(fpr, tpr, 'b', label = 'AUC = %0.2f' % roc_auc)\n",
    "plt.legend(loc = 'lower right')\n",
    "plt.plot([0, 1], [0, 1],'r--')\n",
    "plt.xlim([0, 1])\n",
    "plt.ylim([0, 1])\n",
    "plt.ylabel('True Positive Rate')\n",
    "plt.xlabel('False Positive Rate')\n",
    "plt.show()"
   ]
  },
  {
   "cell_type": "code",
   "execution_count": null,
   "metadata": {},
   "outputs": [],
   "source": []
  }
 ],
 "metadata": {
  "kernelspec": {
   "display_name": "Python 3",
   "language": "python",
   "name": "python3"
  },
  "language_info": {
   "codemirror_mode": {
    "name": "ipython",
    "version": 3
   },
   "file_extension": ".py",
   "mimetype": "text/x-python",
   "name": "python",
   "nbconvert_exporter": "python",
   "pygments_lexer": "ipython3",
   "version": "3.7.3"
  }
 },
 "nbformat": 4,
 "nbformat_minor": 4
}
