{
 "cells": [
  {
   "cell_type": "code",
   "execution_count": 3,
   "metadata": {},
   "outputs": [],
   "source": [
    "from glob import glob\n",
    "import pandas as pd\n",
    "import numpy as np"
   ]
  },
  {
   "cell_type": "code",
   "execution_count": 2,
   "metadata": {},
   "outputs": [],
   "source": [
    "files1 = glob('training_setA/*')\n",
    "files2 = glob('training_setB/*')\n",
    "files = files1+files2"
   ]
  },
  {
   "cell_type": "code",
   "execution_count": 3,
   "metadata": {},
   "outputs": [
    {
     "data": {
      "text/plain": [
       "40336"
      ]
     },
     "execution_count": 3,
     "metadata": {},
     "output_type": "execute_result"
    }
   ],
   "source": [
    "len(files)"
   ]
  },
  {
   "cell_type": "code",
   "execution_count": 5,
   "metadata": {},
   "outputs": [],
   "source": [
    "aggr = []\n",
    "\n",
    "for file in files:\n",
    "\n",
    "    patient = file.split('/')[1].split('.')[0]\n",
    "    # print(patient)\n",
    "    data = pd.read_csv(file,sep = '|')\n",
    "    # getting demographic data\n",
    "    Age = data.loc[0,'Age']\n",
    "    if data.loc[0,'Gender']==0:\n",
    "        Gender = 'Female'\n",
    "    else:\n",
    "        Gender = 'Male'\n",
    "\n",
    "    # getting other constant info\n",
    "    ## Assuming these fields don't change for a patient\n",
    "    ## type of ICU\n",
    "    MICU = data.loc[0,'Unit1']\n",
    "    SICU = data.loc[0,'Unit2']\n",
    "    ## Hospital Admission Time\n",
    "    HospAdmTime = data.loc[0,'HospAdmTime']\n",
    "    ## Hours in ICU\n",
    "    ICULOS = data.iloc[-1,39]        #We can also use length of data\n",
    "\n",
    "    # Whether or not the patient ever had Sepsis during ICU stay\n",
    "    Sepsis = int(any(data['SepsisLabel']==1))\n",
    "\n",
    "    # Feature Engineering: \n",
    "\n",
    "    if Sepsis == 1: \n",
    "        Sepsis_Hour_Index = data['SepsisLabel'].idxmax()\n",
    "        Sepsis_Hour = data.iloc[Sepsis_Hour_Index, 39]\n",
    "        if Sepsis_Hour_Index == 0:\n",
    "            Patient_Type = \"Came In With Sepsis\"\n",
    "        else: \n",
    "            Patient_Type = \"Developed Sepsis During ICU Stay\"\n",
    "\n",
    "\n",
    "    else:\n",
    "        # if patient did not have Sepsis, set Hour to -1\n",
    "        Sepsis_Hour = -1\n",
    "        Patient_Type = 'No Sepsis'\n",
    "\n",
    "    aggr.append([patient, Age, Gender, MICU, SICU, HospAdmTime, ICULOS, Sepsis, Sepsis_Hour, Patient_Type])"
   ]
  },
  {
   "cell_type": "code",
   "execution_count": 6,
   "metadata": {},
   "outputs": [],
   "source": [
    "col_names = [\"Patient_ID\", \"Age\", \"Gender\", \"MICU\", \"SICU\", \"HospAdmTime\", \"ICULOS\", \"Sepsis\", \"Sepsis_Hour\", \"Patient_Type\"]"
   ]
  },
  {
   "cell_type": "code",
   "execution_count": 7,
   "metadata": {},
   "outputs": [],
   "source": [
    "aggr = pd.DataFrame(aggr, columns = col_names).copy()"
   ]
  },
  {
   "cell_type": "code",
   "execution_count": 8,
   "metadata": {},
   "outputs": [
    {
     "data": {
      "text/html": [
       "<div>\n",
       "<style scoped>\n",
       "    .dataframe tbody tr th:only-of-type {\n",
       "        vertical-align: middle;\n",
       "    }\n",
       "\n",
       "    .dataframe tbody tr th {\n",
       "        vertical-align: top;\n",
       "    }\n",
       "\n",
       "    .dataframe thead th {\n",
       "        text-align: right;\n",
       "    }\n",
       "</style>\n",
       "<table border=\"1\" class=\"dataframe\">\n",
       "  <thead>\n",
       "    <tr style=\"text-align: right;\">\n",
       "      <th></th>\n",
       "      <th>Patient_ID</th>\n",
       "      <th>Age</th>\n",
       "      <th>Gender</th>\n",
       "      <th>MICU</th>\n",
       "      <th>SICU</th>\n",
       "      <th>HospAdmTime</th>\n",
       "      <th>ICULOS</th>\n",
       "      <th>Sepsis</th>\n",
       "      <th>Sepsis_Hour</th>\n",
       "      <th>Patient_Type</th>\n",
       "    </tr>\n",
       "  </thead>\n",
       "  <tbody>\n",
       "    <tr>\n",
       "      <th>0</th>\n",
       "      <td>p016161</td>\n",
       "      <td>47.20</td>\n",
       "      <td>Male</td>\n",
       "      <td>NaN</td>\n",
       "      <td>NaN</td>\n",
       "      <td>-0.01</td>\n",
       "      <td>10</td>\n",
       "      <td>1</td>\n",
       "      <td>3</td>\n",
       "      <td>Came In With Sepsis</td>\n",
       "    </tr>\n",
       "    <tr>\n",
       "      <th>1</th>\n",
       "      <td>p019252</td>\n",
       "      <td>80.34</td>\n",
       "      <td>Female</td>\n",
       "      <td>0.0</td>\n",
       "      <td>1.0</td>\n",
       "      <td>-2.97</td>\n",
       "      <td>24</td>\n",
       "      <td>0</td>\n",
       "      <td>-1</td>\n",
       "      <td>No Sepsis</td>\n",
       "    </tr>\n",
       "    <tr>\n",
       "      <th>2</th>\n",
       "      <td>p006372</td>\n",
       "      <td>84.22</td>\n",
       "      <td>Female</td>\n",
       "      <td>1.0</td>\n",
       "      <td>0.0</td>\n",
       "      <td>-0.03</td>\n",
       "      <td>48</td>\n",
       "      <td>0</td>\n",
       "      <td>-1</td>\n",
       "      <td>No Sepsis</td>\n",
       "    </tr>\n",
       "    <tr>\n",
       "      <th>3</th>\n",
       "      <td>p009041</td>\n",
       "      <td>76.93</td>\n",
       "      <td>Male</td>\n",
       "      <td>0.0</td>\n",
       "      <td>1.0</td>\n",
       "      <td>-1.69</td>\n",
       "      <td>40</td>\n",
       "      <td>0</td>\n",
       "      <td>-1</td>\n",
       "      <td>No Sepsis</td>\n",
       "    </tr>\n",
       "    <tr>\n",
       "      <th>4</th>\n",
       "      <td>p010510</td>\n",
       "      <td>56.10</td>\n",
       "      <td>Male</td>\n",
       "      <td>0.0</td>\n",
       "      <td>1.0</td>\n",
       "      <td>-767.78</td>\n",
       "      <td>49</td>\n",
       "      <td>0</td>\n",
       "      <td>-1</td>\n",
       "      <td>No Sepsis</td>\n",
       "    </tr>\n",
       "  </tbody>\n",
       "</table>\n",
       "</div>"
      ],
      "text/plain": [
       "  Patient_ID    Age  Gender  MICU  SICU  HospAdmTime  ICULOS  Sepsis  \\\n",
       "0    p016161  47.20    Male   NaN   NaN        -0.01      10       1   \n",
       "1    p019252  80.34  Female   0.0   1.0        -2.97      24       0   \n",
       "2    p006372  84.22  Female   1.0   0.0        -0.03      48       0   \n",
       "3    p009041  76.93    Male   0.0   1.0        -1.69      40       0   \n",
       "4    p010510  56.10    Male   0.0   1.0      -767.78      49       0   \n",
       "\n",
       "   Sepsis_Hour         Patient_Type  \n",
       "0            3  Came In With Sepsis  \n",
       "1           -1            No Sepsis  \n",
       "2           -1            No Sepsis  \n",
       "3           -1            No Sepsis  \n",
       "4           -1            No Sepsis  "
      ]
     },
     "execution_count": 8,
     "metadata": {},
     "output_type": "execute_result"
    }
   ],
   "source": [
    "aggr.head()"
   ]
  },
  {
   "cell_type": "code",
   "execution_count": 17,
   "metadata": {},
   "outputs": [],
   "source": [
    "# export datasets\n",
    "aggr.to_csv(r'aggregated_full_df_for_viz.csv', index=False)"
   ]
  },
  {
   "cell_type": "code",
   "execution_count": null,
   "metadata": {},
   "outputs": [],
   "source": []
  },
  {
   "cell_type": "code",
   "execution_count": 4,
   "metadata": {},
   "outputs": [],
   "source": [
    "# import the same dataset\n",
    "df = pd.read_csv(\"aggregated_full_df_for_viz.csv\")"
   ]
  },
  {
   "cell_type": "code",
   "execution_count": 5,
   "metadata": {
    "scrolled": true
   },
   "outputs": [
    {
     "data": {
      "text/plain": [
       "(40336, 10)"
      ]
     },
     "execution_count": 5,
     "metadata": {},
     "output_type": "execute_result"
    }
   ],
   "source": [
    "df.shape"
   ]
  },
  {
   "cell_type": "code",
   "execution_count": 6,
   "metadata": {},
   "outputs": [],
   "source": [
    "import seaborn as sns\n",
    "import matplotlib.pyplot as plt\n",
    "from string import ascii_letters"
   ]
  },
  {
   "cell_type": "code",
   "execution_count": 7,
   "metadata": {},
   "outputs": [
    {
     "data": {
      "text/plain": [
       "<matplotlib.axes._subplots.AxesSubplot at 0x7f97e5b3f850>"
      ]
     },
     "execution_count": 7,
     "metadata": {},
     "output_type": "execute_result"
    },
    {
     "data": {
      "image/png": "[encoded data removed]",
      "text/plain": [
       "<Figure size 792x648 with 2 Axes>"
      ]
     },
     "metadata": {
      "needs_background": "light"
     },
     "output_type": "display_data"
    }
   ],
   "source": [
    "# sns.set_theme(style=\"white\")\n",
    "\n",
    "\n",
    "# Compute the correlation matrix\n",
    "corr = df.corr()\n",
    "\n",
    "# Generate a mask for the upper triangle\n",
    "mask = np.triu(np.ones_like(corr, dtype=bool))\n",
    "\n",
    "# Set up the matplotlib figure\n",
    "f, ax = plt.subplots(figsize=(11, 9))\n",
    "\n",
    "# Generate a custom diverging colormap\n",
    "cmap = sns.diverging_palette(230, 20, as_cmap=True)\n",
    "\n",
    "# Draw the heatmap with the mask and correct aspect ratio\n",
    "sns.heatmap(corr, mask=mask, cmap=cmap, vmax=.3, center=0,\n",
    "            square=True, linewidths=.5, cbar_kws={\"shrink\": .5}, annot=True)"
   ]
  },
  {
   "cell_type": "code",
   "execution_count": null,
   "metadata": {},
   "outputs": [],
   "source": []
  }
 ],
 "metadata": {
  "kernelspec": {
   "display_name": "Python 3",
   "language": "python",
   "name": "python3"
  },
  "language_info": {
   "codemirror_mode": {
    "name": "ipython",
    "version": 3
   },
   "file_extension": ".py",
   "mimetype": "text/x-python",
   "name": "python",
   "nbconvert_exporter": "python",
   "pygments_lexer": "ipython3",
   "version": "3.8.3"
  }
 },
 "nbformat": 4,
 "nbformat_minor": 4
}
